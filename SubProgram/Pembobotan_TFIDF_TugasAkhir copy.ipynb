{
 "cells": [
  {
   "cell_type": "markdown",
   "id": "47aef7a6",
   "metadata": {},
   "source": [
    "# TF IDF"
   ]
  },
  {
   "cell_type": "markdown",
   "id": "a00bb485",
   "metadata": {},
   "source": [
    "## IMPORT LIBRARY DAN MEMBACA DATA"
   ]
  },
  {
   "cell_type": "code",
   "execution_count": 47,
   "id": "6d3ec71b",
   "metadata": {},
   "outputs": [
    {
     "data": {
      "text/html": [
       "<div>\n",
       "<style scoped>\n",
       "    .dataframe tbody tr th:only-of-type {\n",
       "        vertical-align: middle;\n",
       "    }\n",
       "\n",
       "    .dataframe tbody tr th {\n",
       "        vertical-align: top;\n",
       "    }\n",
       "\n",
       "    .dataframe thead th {\n",
       "        text-align: right;\n",
       "    }\n",
       "</style>\n",
       "<table border=\"1\" class=\"dataframe\">\n",
       "  <thead>\n",
       "    <tr style=\"text-align: right;\">\n",
       "      <th></th>\n",
       "      <th>tweet_clean</th>\n",
       "      <th>label</th>\n",
       "    </tr>\n",
       "  </thead>\n",
       "  <tbody>\n",
       "    <tr>\n",
       "      <th>0</th>\n",
       "      <td>['tangkap', 'yuli', 'sumpil', 'suporter', 'rus...</td>\n",
       "      <td>negative</td>\n",
       "    </tr>\n",
       "    <tr>\n",
       "      <th>1</th>\n",
       "      <td>['polisi', 'turun', 'tangan', 'membubarkan', '...</td>\n",
       "      <td>negative</td>\n",
       "    </tr>\n",
       "    <tr>\n",
       "      <th>2</th>\n",
       "      <td>['laah', 'komnas', 'ham', 'sdh', 'jlas', 'mnjl...</td>\n",
       "      <td>negative</td>\n",
       "    </tr>\n",
       "    <tr>\n",
       "      <th>3</th>\n",
       "      <td>['lihat', 'bonek', 'rusuh', 'persija', 'rusuh'...</td>\n",
       "      <td>negative</td>\n",
       "    </tr>\n",
       "    <tr>\n",
       "      <th>4</th>\n",
       "      <td>['rusuhnya', 'dmn', 'pitch', 'invader', 'klo',...</td>\n",
       "      <td>negative</td>\n",
       "    </tr>\n",
       "    <tr>\n",
       "      <th>5</th>\n",
       "      <td>['woy', 'liat', 'gak', 'rusuh', 'bonek', 'sda'...</td>\n",
       "      <td>negative</td>\n",
       "    </tr>\n",
       "    <tr>\n",
       "      <th>6</th>\n",
       "      <td>['gas', 'air', 'mata', 'tembakkan', 'dilarang'...</td>\n",
       "      <td>negative</td>\n",
       "    </tr>\n",
       "    <tr>\n",
       "      <th>7</th>\n",
       "      <td>['pemain', 'arema', 'rusuh', 'memukul', 'pemai...</td>\n",
       "      <td>negative</td>\n",
       "    </tr>\n",
       "    <tr>\n",
       "      <th>8</th>\n",
       "      <td>['paham', 'gas', 'airmatanya', 'arah', 'tribun...</td>\n",
       "      <td>negative</td>\n",
       "    </tr>\n",
       "    <tr>\n",
       "      <th>9</th>\n",
       "      <td>['menyalahkan', 'seporter', 'bikin', 'rusuh', ...</td>\n",
       "      <td>negative</td>\n",
       "    </tr>\n",
       "  </tbody>\n",
       "</table>\n",
       "</div>"
      ],
      "text/plain": [
       "                                         tweet_clean     label\n",
       "0  ['tangkap', 'yuli', 'sumpil', 'suporter', 'rus...  negative\n",
       "1  ['polisi', 'turun', 'tangan', 'membubarkan', '...  negative\n",
       "2  ['laah', 'komnas', 'ham', 'sdh', 'jlas', 'mnjl...  negative\n",
       "3  ['lihat', 'bonek', 'rusuh', 'persija', 'rusuh'...  negative\n",
       "4  ['rusuhnya', 'dmn', 'pitch', 'invader', 'klo',...  negative\n",
       "5  ['woy', 'liat', 'gak', 'rusuh', 'bonek', 'sda'...  negative\n",
       "6  ['gas', 'air', 'mata', 'tembakkan', 'dilarang'...  negative\n",
       "7  ['pemain', 'arema', 'rusuh', 'memukul', 'pemai...  negative\n",
       "8  ['paham', 'gas', 'airmatanya', 'arah', 'tribun...  negative\n",
       "9  ['menyalahkan', 'seporter', 'bikin', 'rusuh', ...  negative"
      ]
     },
     "execution_count": 47,
     "metadata": {},
     "output_type": "execute_result"
    }
   ],
   "source": [
    "import pandas as pd \n",
    "import numpy as np\n",
    "\n",
    "dm = pd.read_csv(\"D:\\CODING\\SMT5\\ICP\\SOURCECODE\\OUTPUT_MAIN\\Labelling\\Labelling_Sentiment_Score_WEIGHT_25-12-2022_21-48.csv\", usecols=[\"tweet_clean\", \"label\"])\n",
    "dm.columns = [\"tweet_clean\", \"label\"]\n",
    "df = dm.dropna()\n",
    "df.head(10)"
   ]
  },
  {
   "cell_type": "markdown",
   "id": "9627ac17",
   "metadata": {},
   "source": [
    "## MENGITUNG JUMLAH LABEL POSITIF DAN NEGATIF"
   ]
  },
  {
   "cell_type": "code",
   "execution_count": 48,
   "id": "42cb8ed1",
   "metadata": {},
   "outputs": [
    {
     "data": {
      "text/plain": [
       "negative    770\n",
       "positive     34\n",
       "Name: label, dtype: int64"
      ]
     },
     "execution_count": 48,
     "metadata": {},
     "output_type": "execute_result"
    }
   ],
   "source": [
    "#checking the count of the dependent variable\n",
    "df['label'].value_counts()"
   ]
  },
  {
   "cell_type": "markdown",
   "id": "65dab5d4",
   "metadata": {},
   "source": [
    "## MENGUBAH STRING FORMAT KE LIST"
   ]
  },
  {
   "cell_type": "code",
   "execution_count": 49,
   "id": "acaf54cd",
   "metadata": {},
   "outputs": [
    {
     "name": "stdout",
     "output_type": "stream",
     "text": [
      "['coba', 'bikin', 'monumental', 'virtual', 'twitter', 'korban', 'kajuruhan', 'gas', 'air', 'mata', 'suporter', 'rusuh', 'pantaskah', 'diperlakukan', 'mikir', 'wooy', 'buzzerrrsss']\n",
      "\n",
      "type :  <class 'list'>\n"
     ]
    }
   ],
   "source": [
    "# convert list formated string to list\n",
    "import ast\n",
    "index = np.random.randint(len(df))\n",
    "\n",
    "def convert_text_list(texts):\n",
    "    texts = ast.literal_eval(texts)\n",
    "    return [text for text in texts]\n",
    "\n",
    "df[\"tekslist\"] = df[\"tweet_clean\"].apply(convert_text_list)\n",
    "\n",
    "print(df[\"tekslist\"][23])\n",
    "\n",
    "print(\"\\ntype : \", type(df[\"tekslist\"][index]))"
   ]
  },
  {
   "cell_type": "markdown",
   "id": "2155bd4e",
   "metadata": {},
   "source": [
    "## MENGHITUNG TF"
   ]
  },
  {
   "cell_type": "code",
   "execution_count": 50,
   "id": "642b46bd",
   "metadata": {},
   "outputs": [
    {
     "data": {
      "text/plain": [
       "0    {'tangkap': 0.07692307692307693, 'yuli': 0.076...\n",
       "1    {'polisi': 0.05555555555555555, 'turun': 0.111...\n",
       "2    {'laah': 0.025, 'komnas': 0.025, 'ham': 0.025,...\n",
       "3    {'lihat': 0.05263157894736842, 'bonek': 0.0526...\n",
       "4    {'rusuhnya': 0.0625, 'dmn': 0.0625, 'pitch': 0...\n",
       "Name: TF_dict, dtype: object"
      ]
     },
     "execution_count": 50,
     "metadata": {},
     "output_type": "execute_result"
    }
   ],
   "source": [
    "def calc_TF(document):\n",
    "    #perhitungan jumlah kata\n",
    "    TF_dict = {}\n",
    "    for term in document:\n",
    "        if term in TF_dict:\n",
    "            TF_dict[term] += 1\n",
    "        else:\n",
    "            TF_dict[term] = 1\n",
    "    #perhitungan tf\n",
    "    for term in TF_dict:\n",
    "        TF_dict[term] = TF_dict[term] / len(document)\n",
    "    return TF_dict\n",
    "\n",
    "df[\"TF_dict\"] = df['tekslist'].apply(calc_TF)\n",
    "\n",
    "df[\"TF_dict\"].head()"
   ]
  },
  {
   "cell_type": "code",
   "execution_count": 51,
   "id": "ceb9fd7b",
   "metadata": {},
   "outputs": [
    {
     "name": "stdout",
     "output_type": "stream",
     "text": [
      "                term \t TF\n",
      "\n",
      "           supporter \t 0.07142857142857142\n",
      "               bikin \t 0.07142857142857142\n",
      "               rusuh \t 0.14285714285714285\n",
      "           neccesary \t 0.07142857142857142\n",
      "           condition \t 0.07142857142857142\n",
      "            kejadian \t 0.07142857142857142\n",
      "                kalo \t 0.07142857142857142\n",
      "           suuporter \t 0.07142857142857142\n",
      "         kejadiannya \t 0.14285714285714285\n",
      "            penyebab \t 0.07142857142857142\n",
      "            utamanya \t 0.07142857142857142\n",
      "                 tpi \t 0.07142857142857142\n"
     ]
    }
   ],
   "source": [
    "#hasil tf\n",
    "\n",
    "print('%20s' % \"term\", \"\\t\", \"TF\\n\")\n",
    "for key in df[\"TF_dict\"][index]:\n",
    "    print('%20s' % key, \"\\t\", df[\"TF_dict\"][index][key])"
   ]
  },
  {
   "cell_type": "markdown",
   "id": "17b5e49c",
   "metadata": {},
   "source": [
    "## MENGHITUNG DF"
   ]
  },
  {
   "cell_type": "code",
   "execution_count": 52,
   "id": "978d11ff",
   "metadata": {},
   "outputs": [],
   "source": [
    "def calc_DF(tfDict):\n",
    "    count_DF = {}\n",
    "    for document in tfDict:\n",
    "        for term in document:\n",
    "            if term in count_DF:\n",
    "                count_DF[term] += 1\n",
    "            else:\n",
    "                count_DF[term] = 1\n",
    "    return count_DF\n",
    "\n",
    "DF = calc_DF(df[\"TF_dict\"])"
   ]
  },
  {
   "cell_type": "markdown",
   "id": "358fad30",
   "metadata": {},
   "source": [
    "## MENGHITUNG IDF"
   ]
  },
  {
   "cell_type": "code",
   "execution_count": 53,
   "id": "05973ce9",
   "metadata": {},
   "outputs": [],
   "source": [
    "#menghitung idf\n",
    "\n",
    "n_document = len(df)\n",
    "def calc_IDF(__n_document, __DF):\n",
    "    IDF_Dict = {}\n",
    "    for term in __DF:\n",
    "        IDF_Dict[term] = np.log(__n_document / (__DF[term] + 1))\n",
    "    return IDF_Dict\n",
    "  \n",
    "#penyimpanan kamus idf\n",
    "IDF = calc_IDF(n_document, DF)"
   ]
  },
  {
   "cell_type": "markdown",
   "id": "d23846f0",
   "metadata": {},
   "source": [
    "## MENGHITUNG TF-IDF"
   ]
  },
  {
   "cell_type": "code",
   "execution_count": 54,
   "id": "507b5372",
   "metadata": {},
   "outputs": [],
   "source": [
    "#perhitungan TF-IDF\n",
    "def calc_TF_IDF(TF):\n",
    "    TF_IDF_Dict = {}\n",
    "    for key in TF:\n",
    "        TF_IDF_Dict[key] = TF[key] * IDF[key]\n",
    "    return TF_IDF_Dict\n",
    "\n",
    "#penyimpanan variabel TF-IDF \n",
    "df[\"TF-IDF_dict\"] = df[\"TF_dict\"].apply(calc_TF_IDF)"
   ]
  },
  {
   "cell_type": "code",
   "execution_count": 55,
   "id": "f843e4e1",
   "metadata": {},
   "outputs": [
    {
     "name": "stdout",
     "output_type": "stream",
     "text": [
      "                term \t         TF \t              TF-IDF\n",
      "\n",
      "           supporter \t 0.07142857142857142 \t 0.061475260826339945\n",
      "               bikin \t 0.07142857142857142 \t 0.16393929389332337\n",
      "               rusuh \t 0.14285714285714285 \t 0.061431115016291914\n",
      "           neccesary \t 0.07142857142857142 \t 0.42831800632993006\n",
      "           condition \t 0.07142857142857142 \t 0.42831800632993006\n",
      "            kejadian \t 0.07142857142857142 \t 0.22387508626353947\n",
      "                kalo \t 0.07142857142857142 \t 0.1572116356747733\n",
      "           suuporter \t 0.07142857142857142 \t 0.3993562128936326\n",
      "         kejadiannya \t 0.14285714285714285 \t 0.6996913999929872\n",
      "            penyebab \t 0.07142857142857142 \t 0.2570397725586179\n",
      "            utamanya \t 0.07142857142857142 \t 0.3388349371516895\n",
      "                 tpi \t 0.07142857142857142 \t 0.31335815544178003\n"
     ]
    }
   ],
   "source": [
    "# memunculkan nilai TF-IDF\n",
    "\n",
    "print('%20s' % \"term\", \"\\t\", '%10s' % \"TF\", \"\\t\", '%20s' % \"TF-IDF\\n\")\n",
    "for key in df[\"TF-IDF_dict\"][index]:\n",
    "    print('%20s' % key, \"\\t\", df[\"TF_dict\"][index][key] ,\"\\t\" , df[\"TF-IDF_dict\"][index][key])"
   ]
  },
  {
   "cell_type": "code",
   "execution_count": 56,
   "id": "25349373",
   "metadata": {},
   "outputs": [
    {
     "name": "stdout",
     "output_type": "stream",
     "text": [
      "tampil baris pertama matrix TF_IDF_Vec Series\n",
      "\n",
      "0      [0.033078292701080265, 0.0, 0.0, 0.07843987278...\n",
      "1      [0.0238898780618913, 0.09562818350763992, 0.0,...\n",
      "2      [0.021500890255702173, 0.0, 0.0, 0.05098591730...\n",
      "3      [0.06789754817590159, 0.0, 0.0, 0.107338773284...\n",
      "4      [0.0, 0.0, 0.0, 0.06373239663740292, 0.0668249...\n",
      "                             ...                        \n",
      "799    [0.02866785367426956, 0.05737691010458395, 0.0...\n",
      "800    [0.0238898780618913, 0.04781409175381996, 0.05...\n",
      "801    [0.017917408546418476, 0.035860568815364965, 0...\n",
      "802    [0.02866785367426956, 0.028688455052291974, 0....\n",
      "803    [0.033078292701080265, 0.06620412704375071, 0....\n",
      "Name: TF_IDF_Vec, Length: 804, dtype: object\n",
      "\n",
      "ukuran matrix :  804\n"
     ]
    }
   ],
   "source": [
    "#matrik tf-idf\n",
    "# pengurutan descending berdasarkan nilai DF  \n",
    "sorted_DF = sorted(DF.items(), key=lambda kv: kv[1], reverse=True)[:50]\n",
    "\n",
    "# pembuatan list kata dari pengurutan `sorted_DF`\n",
    "unique_term = [item[0] for item in sorted_DF]\n",
    "\n",
    "def calc_TF_IDF_Vec(__TF_IDF_Dict):\n",
    "    TF_IDF_vector = [0.0] * len(unique_term)\n",
    "\n",
    "    # For each unique word, if it is in the review, store its TF-IDF value.\n",
    "    for i, term in enumerate(unique_term):\n",
    "        if term in __TF_IDF_Dict:\n",
    "            TF_IDF_vector[i] = __TF_IDF_Dict[term]\n",
    "    return TF_IDF_vector\n",
    "\n",
    "df[\"TF_IDF_Vec\"] = df[\"TF-IDF_dict\"].apply(calc_TF_IDF_Vec)\n",
    "\n",
    "print(\"tampil baris pertama matrix TF_IDF_Vec Series\\n\")\n",
    "print(df[\"TF_IDF_Vec\"])\n",
    "\n",
    "print(\"\\nukuran matrix : \", len(df[\"TF_IDF_Vec\"]))"
   ]
  },
  {
   "cell_type": "markdown",
   "id": "6909ed45",
   "metadata": {},
   "source": [
    "## MENAMPILKAN TOP 50"
   ]
  },
  {
   "cell_type": "code",
   "execution_count": 57,
   "id": "1e4e9280",
   "metadata": {},
   "outputs": [],
   "source": [
    "#menampilkan top 50 term tf-idf\n",
    "import matplotlib.pyplot as plt\n",
    "# konversi ke dalam List\n",
    "TF_IDF_Vec_List = np.array(df[\"TF_IDF_Vec\"].to_list())\n",
    " \n",
    "sums = TF_IDF_Vec_List.sum(axis=0)\n",
    "\n",
    "data = []\n",
    "\n",
    "for col, term in enumerate(unique_term):\n",
    "    data.append((term, sums[col]))\n",
    "    \n",
    "ranking = pd.DataFrame(data, columns=['term', 'rank'])\n",
    "rank_sort = ranking.sort_values('rank', ascending=True)\n",
    "rank_sort.reset_index(drop=True, inplace=True)\n"
   ]
  },
  {
   "cell_type": "code",
   "execution_count": 58,
   "id": "7c507748",
   "metadata": {},
   "outputs": [
    {
     "data": {
      "image/png": "[encoded data removed]",
      "text/plain": [
       "<Figure size 1440x1440 with 1 Axes>"
      ]
     },
     "metadata": {
      "needs_background": "light"
     },
     "output_type": "display_data"
    }
   ],
   "source": [
    "def tampil_barplot(data, x, y, title, xlabel, ylabel, figsize=(20, 20)):\n",
    "    fig, ax = plt.subplots(figsize=figsize)\n",
    "    ax.barh(data[x], data[y])\n",
    "    ax.set_title(title,fontsize=18)\n",
    "    ax.set_xlabel(xlabel,fontsize=18)\n",
    "    ax.set_ylabel(ylabel,fontsize=18)\n",
    "    plt.yticks(fontsize=15)\n",
    "    plt.xticks(fontsize=12)\n",
    "    plt.show()\n",
    "tampil_barplot(rank_sort, \"term\", \"rank\", \"Top 50 Term TF-IDF | Nilai Terbaik Dari Atas Ke Bawah\", \"Term\", \"Rank\")"
   ]
  },
  {
   "cell_type": "code",
   "execution_count": 59,
   "id": "345ee9b4",
   "metadata": {},
   "outputs": [
    {
     "data": {
      "text/html": [
       "<div>\n",
       "<style scoped>\n",
       "    .dataframe tbody tr th:only-of-type {\n",
       "        vertical-align: middle;\n",
       "    }\n",
       "\n",
       "    .dataframe tbody tr th {\n",
       "        vertical-align: top;\n",
       "    }\n",
       "\n",
       "    .dataframe thead th {\n",
       "        text-align: right;\n",
       "    }\n",
       "</style>\n",
       "<table border=\"1\" class=\"dataframe\">\n",
       "  <thead>\n",
       "    <tr style=\"text-align: right;\">\n",
       "      <th></th>\n",
       "      <th>tweet_clean</th>\n",
       "      <th>label</th>\n",
       "      <th>tekslist</th>\n",
       "      <th>TF_dict</th>\n",
       "      <th>TF-IDF_dict</th>\n",
       "      <th>TF_IDF_Vec</th>\n",
       "    </tr>\n",
       "  </thead>\n",
       "  <tbody>\n",
       "    <tr>\n",
       "      <th>0</th>\n",
       "      <td>['tangkap', 'yuli', 'sumpil', 'suporter', 'rus...</td>\n",
       "      <td>negative</td>\n",
       "      <td>[tangkap, yuli, sumpil, suporter, rusuh, sblm,...</td>\n",
       "      <td>{'tangkap': 0.07692307692307693, 'yuli': 0.076...</td>\n",
       "      <td>{'tangkap': 0.3455672839879036, 'yuli': 0.4300...</td>\n",
       "      <td>[0.033078292701080265, 0.0, 0.0, 0.07843987278...</td>\n",
       "    </tr>\n",
       "    <tr>\n",
       "      <th>1</th>\n",
       "      <td>['polisi', 'turun', 'tangan', 'membubarkan', '...</td>\n",
       "      <td>negative</td>\n",
       "      <td>[polisi, turun, tangan, membubarkan, supporter...</td>\n",
       "      <td>{'polisi': 0.05555555555555555, 'turun': 0.111...</td>\n",
       "      <td>{'polisi': 0.10852226782135949, 'turun': 0.218...</td>\n",
       "      <td>[0.0238898780618913, 0.09562818350763992, 0.0,...</td>\n",
       "    </tr>\n",
       "    <tr>\n",
       "      <th>2</th>\n",
       "      <td>['laah', 'komnas', 'ham', 'sdh', 'jlas', 'mnjl...</td>\n",
       "      <td>negative</td>\n",
       "      <td>[laah, komnas, ham, sdh, jlas, mnjlaskn, bhw, ...</td>\n",
       "      <td>{'laah': 0.025, 'komnas': 0.025, 'ham': 0.025,...</td>\n",
       "      <td>{'laah': 0.14991130221547552, 'komnas': 0.1397...</td>\n",
       "      <td>[0.021500890255702173, 0.0, 0.0, 0.05098591730...</td>\n",
       "    </tr>\n",
       "    <tr>\n",
       "      <th>3</th>\n",
       "      <td>['lihat', 'bonek', 'rusuh', 'persija', 'rusuh'...</td>\n",
       "      <td>negative</td>\n",
       "      <td>[lihat, bonek, rusuh, persija, rusuh, klub, ru...</td>\n",
       "      <td>{'lihat': 0.05263157894736842, 'bonek': 0.0526...</td>\n",
       "      <td>{'lihat': 0.2577810421026795, 'bonek': 0.20615...</td>\n",
       "      <td>[0.06789754817590159, 0.0, 0.0, 0.107338773284...</td>\n",
       "    </tr>\n",
       "    <tr>\n",
       "      <th>4</th>\n",
       "      <td>['rusuhnya', 'dmn', 'pitch', 'invader', 'klo',...</td>\n",
       "      <td>negative</td>\n",
       "      <td>[rusuhnya, dmn, pitch, invader, klo, masuk, la...</td>\n",
       "      <td>{'rusuhnya': 0.0625, 'dmn': 0.0625, 'pitch': 0...</td>\n",
       "      <td>{'rusuhnya': 0.30611498749693195, 'dmn': 0.331...</td>\n",
       "      <td>[0.0, 0.0, 0.0, 0.06373239663740292, 0.0668249...</td>\n",
       "    </tr>\n",
       "    <tr>\n",
       "      <th>...</th>\n",
       "      <td>...</td>\n",
       "      <td>...</td>\n",
       "      <td>...</td>\n",
       "      <td>...</td>\n",
       "      <td>...</td>\n",
       "      <td>...</td>\n",
       "    </tr>\n",
       "    <tr>\n",
       "      <th>799</th>\n",
       "      <td>['orang', 'bacot', 'ngomong', 'teori', 'akibat...</td>\n",
       "      <td>negative</td>\n",
       "      <td>[orang, bacot, ngomong, teori, akibat, kalo, s...</td>\n",
       "      <td>{'orang': 0.06666666666666667, 'bacot': 0.0666...</td>\n",
       "      <td>{'orang': 0.18651859807122265, 'bacot': 0.3727...</td>\n",
       "      <td>[0.02866785367426956, 0.05737691010458395, 0.0...</td>\n",
       "    </tr>\n",
       "    <tr>\n",
       "      <th>800</th>\n",
       "      <td>['blg', 'kontribusi', 'kesalahannya', 'pssi', ...</td>\n",
       "      <td>negative</td>\n",
       "      <td>[blg, kontribusi, kesalahannya, pssi, lib, apa...</td>\n",
       "      <td>{'blg': 0.05555555555555555, 'kontribusi': 0.0...</td>\n",
       "      <td>{'blg': 0.3106103878061587, 'kontribusi': 0.33...</td>\n",
       "      <td>[0.0238898780618913, 0.04781409175381996, 0.05...</td>\n",
       "    </tr>\n",
       "    <tr>\n",
       "      <th>801</th>\n",
       "      <td>['ngakak', 'kerusuhan', 'smbil', 'nimbul', 'ko...</td>\n",
       "      <td>negative</td>\n",
       "      <td>[ngakak, kerusuhan, smbil, nimbul, korban, jiw...</td>\n",
       "      <td>{'ngakak': 0.041666666666666664, 'kerusuhan': ...</td>\n",
       "      <td>{'ngakak': 0.24985217035912588, 'kerusuhan': 0...</td>\n",
       "      <td>[0.017917408546418476, 0.035860568815364965, 0...</td>\n",
       "    </tr>\n",
       "    <tr>\n",
       "      <th>802</th>\n",
       "      <td>['emg', 'kenyataannya', 'suporterny', 'nerima'...</td>\n",
       "      <td>negative</td>\n",
       "      <td>[emg, kenyataannya, suporterny, nerima, kekala...</td>\n",
       "      <td>{'emg': 0.06666666666666667, 'kenyataannya': 0...</td>\n",
       "      <td>{'emg': 0.2654366045384504, 'kenyataannya': 0....</td>\n",
       "      <td>[0.02866785367426956, 0.028688455052291974, 0....</td>\n",
       "    </tr>\n",
       "    <tr>\n",
       "      <th>803</th>\n",
       "      <td>['permasalahannya', 'supporter', 'rusuh', 'tur...</td>\n",
       "      <td>negative</td>\n",
       "      <td>[permasalahannya, supporter, rusuh, turun, kel...</td>\n",
       "      <td>{'permasalahannya': 0.07692307692307693, 'supp...</td>\n",
       "      <td>{'permasalahannya': 0.4079465313891597, 'suppo...</td>\n",
       "      <td>[0.033078292701080265, 0.06620412704375071, 0....</td>\n",
       "    </tr>\n",
       "  </tbody>\n",
       "</table>\n",
       "<p>804 rows × 6 columns</p>\n",
       "</div>"
      ],
      "text/plain": [
       "                                           tweet_clean     label  \\\n",
       "0    ['tangkap', 'yuli', 'sumpil', 'suporter', 'rus...  negative   \n",
       "1    ['polisi', 'turun', 'tangan', 'membubarkan', '...  negative   \n",
       "2    ['laah', 'komnas', 'ham', 'sdh', 'jlas', 'mnjl...  negative   \n",
       "3    ['lihat', 'bonek', 'rusuh', 'persija', 'rusuh'...  negative   \n",
       "4    ['rusuhnya', 'dmn', 'pitch', 'invader', 'klo',...  negative   \n",
       "..                                                 ...       ...   \n",
       "799  ['orang', 'bacot', 'ngomong', 'teori', 'akibat...  negative   \n",
       "800  ['blg', 'kontribusi', 'kesalahannya', 'pssi', ...  negative   \n",
       "801  ['ngakak', 'kerusuhan', 'smbil', 'nimbul', 'ko...  negative   \n",
       "802  ['emg', 'kenyataannya', 'suporterny', 'nerima'...  negative   \n",
       "803  ['permasalahannya', 'supporter', 'rusuh', 'tur...  negative   \n",
       "\n",
       "                                              tekslist  \\\n",
       "0    [tangkap, yuli, sumpil, suporter, rusuh, sblm,...   \n",
       "1    [polisi, turun, tangan, membubarkan, supporter...   \n",
       "2    [laah, komnas, ham, sdh, jlas, mnjlaskn, bhw, ...   \n",
       "3    [lihat, bonek, rusuh, persija, rusuh, klub, ru...   \n",
       "4    [rusuhnya, dmn, pitch, invader, klo, masuk, la...   \n",
       "..                                                 ...   \n",
       "799  [orang, bacot, ngomong, teori, akibat, kalo, s...   \n",
       "800  [blg, kontribusi, kesalahannya, pssi, lib, apa...   \n",
       "801  [ngakak, kerusuhan, smbil, nimbul, korban, jiw...   \n",
       "802  [emg, kenyataannya, suporterny, nerima, kekala...   \n",
       "803  [permasalahannya, supporter, rusuh, turun, kel...   \n",
       "\n",
       "                                               TF_dict  \\\n",
       "0    {'tangkap': 0.07692307692307693, 'yuli': 0.076...   \n",
       "1    {'polisi': 0.05555555555555555, 'turun': 0.111...   \n",
       "2    {'laah': 0.025, 'komnas': 0.025, 'ham': 0.025,...   \n",
       "3    {'lihat': 0.05263157894736842, 'bonek': 0.0526...   \n",
       "4    {'rusuhnya': 0.0625, 'dmn': 0.0625, 'pitch': 0...   \n",
       "..                                                 ...   \n",
       "799  {'orang': 0.06666666666666667, 'bacot': 0.0666...   \n",
       "800  {'blg': 0.05555555555555555, 'kontribusi': 0.0...   \n",
       "801  {'ngakak': 0.041666666666666664, 'kerusuhan': ...   \n",
       "802  {'emg': 0.06666666666666667, 'kenyataannya': 0...   \n",
       "803  {'permasalahannya': 0.07692307692307693, 'supp...   \n",
       "\n",
       "                                           TF-IDF_dict  \\\n",
       "0    {'tangkap': 0.3455672839879036, 'yuli': 0.4300...   \n",
       "1    {'polisi': 0.10852226782135949, 'turun': 0.218...   \n",
       "2    {'laah': 0.14991130221547552, 'komnas': 0.1397...   \n",
       "3    {'lihat': 0.2577810421026795, 'bonek': 0.20615...   \n",
       "4    {'rusuhnya': 0.30611498749693195, 'dmn': 0.331...   \n",
       "..                                                 ...   \n",
       "799  {'orang': 0.18651859807122265, 'bacot': 0.3727...   \n",
       "800  {'blg': 0.3106103878061587, 'kontribusi': 0.33...   \n",
       "801  {'ngakak': 0.24985217035912588, 'kerusuhan': 0...   \n",
       "802  {'emg': 0.2654366045384504, 'kenyataannya': 0....   \n",
       "803  {'permasalahannya': 0.4079465313891597, 'suppo...   \n",
       "\n",
       "                                            TF_IDF_Vec  \n",
       "0    [0.033078292701080265, 0.0, 0.0, 0.07843987278...  \n",
       "1    [0.0238898780618913, 0.09562818350763992, 0.0,...  \n",
       "2    [0.021500890255702173, 0.0, 0.0, 0.05098591730...  \n",
       "3    [0.06789754817590159, 0.0, 0.0, 0.107338773284...  \n",
       "4    [0.0, 0.0, 0.0, 0.06373239663740292, 0.0668249...  \n",
       "..                                                 ...  \n",
       "799  [0.02866785367426956, 0.05737691010458395, 0.0...  \n",
       "800  [0.0238898780618913, 0.04781409175381996, 0.05...  \n",
       "801  [0.017917408546418476, 0.035860568815364965, 0...  \n",
       "802  [0.02866785367426956, 0.028688455052291974, 0....  \n",
       "803  [0.033078292701080265, 0.06620412704375071, 0....  \n",
       "\n",
       "[804 rows x 6 columns]"
      ]
     },
     "execution_count": 59,
     "metadata": {},
     "output_type": "execute_result"
    }
   ],
   "source": [
    "df"
   ]
  },
  {
   "cell_type": "markdown",
   "id": "0a98c436",
   "metadata": {},
   "source": [
    "## MENYIMPAN KEDALAM CSV FILE"
   ]
  },
  {
   "cell_type": "code",
   "execution_count": 60,
   "id": "10a72ca8",
   "metadata": {},
   "outputs": [],
   "source": [
    "#PEMODELAN MENGGUNAKAN SVM CLASSIFIER\n",
    "from sklearn.feature_extraction.text import TfidfVectorizer\n",
    "from sklearn.preprocessing import LabelEncoder\n",
    "from sklearn.feature_extraction.text import TfidfVectorizer\n",
    "from sklearn.model_selection import train_test_split\n",
    "from sklearn.metrics import accuracy_score, f1_score, classification_report, confusion_matrix, accuracy_score\n",
    "from sklearn import svm\n",
    "from sklearn import metrics\n",
    "\n",
    "vectorizer = TfidfVectorizer (max_features=3000)"
   ]
  },
  {
   "cell_type": "code",
   "execution_count": 61,
   "id": "c1e55796",
   "metadata": {},
   "outputs": [
    {
     "data": {
      "text/plain": [
       "array([[0.        , 0.        , 0.        , ..., 0.38398709, 0.        ,\n",
       "        0.        ],\n",
       "       [0.        , 0.        , 0.        , ..., 0.        , 0.        ,\n",
       "        0.        ],\n",
       "       [0.        , 0.        , 0.        , ..., 0.        , 0.        ,\n",
       "        0.        ],\n",
       "       ...,\n",
       "       [0.        , 0.        , 0.        , ..., 0.        , 0.        ,\n",
       "        0.        ],\n",
       "       [0.        , 0.        , 0.        , ..., 0.        , 0.        ,\n",
       "        0.        ],\n",
       "       [0.        , 0.        , 0.        , ..., 0.        , 0.        ,\n",
       "        0.        ]])"
      ]
     },
     "execution_count": 61,
     "metadata": {},
     "output_type": "execute_result"
    }
   ],
   "source": [
    "v_data = vectorizer.fit_transform(df['tweet_clean']).toarray()\n",
    "v_data"
   ]
  },
  {
   "cell_type": "code",
   "execution_count": 62,
   "id": "31d94049",
   "metadata": {},
   "outputs": [
    {
     "data": {
      "text/plain": [
       "0    negative\n",
       "1    negative\n",
       "2    negative\n",
       "3    negative\n",
       "4    negative\n",
       "Name: label, dtype: object"
      ]
     },
     "execution_count": 62,
     "metadata": {},
     "output_type": "execute_result"
    }
   ],
   "source": [
    "df['label'].head(5)"
   ]
  },
  {
   "cell_type": "code",
   "execution_count": 63,
   "id": "14b6d61e",
   "metadata": {},
   "outputs": [],
   "source": [
    "target_encoder = LabelEncoder()\n",
    "df[\"target\"] = target_encoder.fit_transform(df[\"label\"])"
   ]
  },
  {
   "cell_type": "code",
   "execution_count": 64,
   "id": "57b087fc",
   "metadata": {},
   "outputs": [
    {
     "data": {
      "text/plain": [
       "0    0\n",
       "1    0\n",
       "2    0\n",
       "3    0\n",
       "4    0\n",
       "Name: target, dtype: int32"
      ]
     },
     "execution_count": 64,
     "metadata": {},
     "output_type": "execute_result"
    }
   ],
   "source": [
    "df['target'].head(5)"
   ]
  },
  {
   "cell_type": "code",
   "execution_count": 65,
   "id": "128c8563",
   "metadata": {},
   "outputs": [],
   "source": [
    "from sklearn.model_selection import train_test_split\n",
    "\n",
    "X_train, X_test, y_train, y_test = train_test_split(v_data, df[\"target\"], test_size=0.3, random_state=np.random.randint(1000), shuffle=True)"
   ]
  },
  {
   "cell_type": "code",
   "execution_count": 66,
   "id": "fa9b3097",
   "metadata": {},
   "outputs": [
    {
     "name": "stdout",
     "output_type": "stream",
     "text": [
      "Before Counter({0: 534, 1: 28})\n",
      "After Counter({0: 534, 1: 534})\n"
     ]
    }
   ],
   "source": [
    "from collections import Counter\n",
    "\n",
    "from imblearn.over_sampling import SMOTE\n",
    "\n",
    "counter = Counter(y_train)\n",
    "print('Before',counter)\n",
    "# oversampling the train dataset using SMOTE\n",
    "smt = SMOTE()\n",
    "#X_train, y_train = smt.fit_resample(X_train, y_train)\n",
    "X_train_sm, y_train_sm = smt.fit_resample(X_train, y_train)\n",
    "\n",
    "counter = Counter(y_train_sm)\n",
    "print('After',counter)"
   ]
  },
  {
   "cell_type": "code",
   "execution_count": 67,
   "id": "878de797",
   "metadata": {},
   "outputs": [
    {
     "name": "stdout",
     "output_type": "stream",
     "text": [
      "909\n",
      "[LibSVM]"
     ]
    },
    {
     "data": {
      "text/html": [
       "<style>#sk-container-id-3 {color: black;background-color: white;}#sk-container-id-3 pre{padding: 0;}#sk-container-id-3 div.sk-toggleable {background-color: white;}#sk-container-id-3 label.sk-toggleable__label {cursor: pointer;display: block;width: 100%;margin-bottom: 0;padding: 0.3em;box-sizing: border-box;text-align: center;}#sk-container-id-3 label.sk-toggleable__label-arrow:before {content: \"▸\";float: left;margin-right: 0.25em;color: #696969;}#sk-container-id-3 label.sk-toggleable__label-arrow:hover:before {color: black;}#sk-container-id-3 div.sk-estimator:hover label.sk-toggleable__label-arrow:before {color: black;}#sk-container-id-3 div.sk-toggleable__content {max-height: 0;max-width: 0;overflow: hidden;text-align: left;background-color: #f0f8ff;}#sk-container-id-3 div.sk-toggleable__content pre {margin: 0.2em;color: black;border-radius: 0.25em;background-color: #f0f8ff;}#sk-container-id-3 input.sk-toggleable__control:checked~div.sk-toggleable__content {max-height: 200px;max-width: 100%;overflow: auto;}#sk-container-id-3 input.sk-toggleable__control:checked~label.sk-toggleable__label-arrow:before {content: \"▾\";}#sk-container-id-3 div.sk-estimator input.sk-toggleable__control:checked~label.sk-toggleable__label {background-color: #d4ebff;}#sk-container-id-3 div.sk-label input.sk-toggleable__control:checked~label.sk-toggleable__label {background-color: #d4ebff;}#sk-container-id-3 input.sk-hidden--visually {border: 0;clip: rect(1px 1px 1px 1px);clip: rect(1px, 1px, 1px, 1px);height: 1px;margin: -1px;overflow: hidden;padding: 0;position: absolute;width: 1px;}#sk-container-id-3 div.sk-estimator {font-family: monospace;background-color: #f0f8ff;border: 1px dotted black;border-radius: 0.25em;box-sizing: border-box;margin-bottom: 0.5em;}#sk-container-id-3 div.sk-estimator:hover {background-color: #d4ebff;}#sk-container-id-3 div.sk-parallel-item::after {content: \"\";width: 100%;border-bottom: 1px solid gray;flex-grow: 1;}#sk-container-id-3 div.sk-label:hover label.sk-toggleable__label {background-color: #d4ebff;}#sk-container-id-3 div.sk-serial::before {content: \"\";position: absolute;border-left: 1px solid gray;box-sizing: border-box;top: 0;bottom: 0;left: 50%;z-index: 0;}#sk-container-id-3 div.sk-serial {display: flex;flex-direction: column;align-items: center;background-color: white;padding-right: 0.2em;padding-left: 0.2em;position: relative;}#sk-container-id-3 div.sk-item {position: relative;z-index: 1;}#sk-container-id-3 div.sk-parallel {display: flex;align-items: stretch;justify-content: center;background-color: white;position: relative;}#sk-container-id-3 div.sk-item::before, #sk-container-id-3 div.sk-parallel-item::before {content: \"\";position: absolute;border-left: 1px solid gray;box-sizing: border-box;top: 0;bottom: 0;left: 50%;z-index: -1;}#sk-container-id-3 div.sk-parallel-item {display: flex;flex-direction: column;z-index: 1;position: relative;background-color: white;}#sk-container-id-3 div.sk-parallel-item:first-child::after {align-self: flex-end;width: 50%;}#sk-container-id-3 div.sk-parallel-item:last-child::after {align-self: flex-start;width: 50%;}#sk-container-id-3 div.sk-parallel-item:only-child::after {width: 0;}#sk-container-id-3 div.sk-dashed-wrapped {border: 1px dashed gray;margin: 0 0.4em 0.5em 0.4em;box-sizing: border-box;padding-bottom: 0.4em;background-color: white;}#sk-container-id-3 div.sk-label label {font-family: monospace;font-weight: bold;display: inline-block;line-height: 1.2em;}#sk-container-id-3 div.sk-label-container {text-align: center;}#sk-container-id-3 div.sk-container {/* jupyter's `normalize.less` sets `[hidden] { display: none; }` but bootstrap.min.css set `[hidden] { display: none !important; }` so we also need the `!important` here to be able to override the default hidden behavior on the sphinx rendered scikit-learn.org. See: https://github.com/scikit-learn/scikit-learn/issues/21755 */display: inline-block !important;position: relative;}#sk-container-id-3 div.sk-text-repr-fallback {display: none;}</style><div id=\"sk-container-id-3\" class=\"sk-top-container\"><div class=\"sk-text-repr-fallback\"><pre>SVC(gamma=&#x27;auto&#x27;, kernel=&#x27;sigmoid&#x27;, max_iter=99999999, probability=True,\n",
       "    random_state=909, verbose=True)</pre><b>In a Jupyter environment, please rerun this cell to show the HTML representation or trust the notebook. <br />On GitHub, the HTML representation is unable to render, please try loading this page with nbviewer.org.</b></div><div class=\"sk-container\" hidden><div class=\"sk-item\"><div class=\"sk-estimator sk-toggleable\"><input class=\"sk-toggleable__control sk-hidden--visually\" id=\"sk-estimator-id-3\" type=\"checkbox\" checked><label for=\"sk-estimator-id-3\" class=\"sk-toggleable__label sk-toggleable__label-arrow\">SVC</label><div class=\"sk-toggleable__content\"><pre>SVC(gamma=&#x27;auto&#x27;, kernel=&#x27;sigmoid&#x27;, max_iter=99999999, probability=True,\n",
       "    random_state=909, verbose=True)</pre></div></div></div></div></div>"
      ],
      "text/plain": [
       "SVC(gamma='auto', kernel='sigmoid', max_iter=99999999, probability=True,\n",
       "    random_state=909, verbose=True)"
      ]
     },
     "execution_count": 67,
     "metadata": {},
     "output_type": "execute_result"
    }
   ],
   "source": [
    "r_stt = 909 #np.random.randint(1000)\n",
    "model_svm = svm.SVC(kernel='sigmoid', C=1.0, gamma='auto', probability=True, random_state=r_stt, verbose=True, max_iter=99999999, shrinking = True, decision_function_shape = \"ovr\", break_ties = False)\n",
    "print(r_stt)\n",
    "model_svm.fit(X_train_sm, y_train_sm)"
   ]
  },
  {
   "cell_type": "code",
   "execution_count": 68,
   "id": "953985a8",
   "metadata": {},
   "outputs": [
    {
     "name": "stdout",
     "output_type": "stream",
     "text": [
      "Accuracy: 0.8842975206611571\n",
      "Precision: 0.07692307692307693\n",
      "Recall: 0.3333333333333333\n",
      "Confusion Matrix \n",
      " [[212  24]\n",
      " [  4   2]] \n",
      "\n",
      "Classification Report \n",
      "               precision    recall  f1-score   support\n",
      "\n",
      "           0       0.98      0.90      0.94       236\n",
      "           1       0.08      0.33      0.12         6\n",
      "\n",
      "    accuracy                           0.88       242\n",
      "   macro avg       0.53      0.62      0.53       242\n",
      "weighted avg       0.96      0.88      0.92       242\n",
      "\n"
     ]
    }
   ],
   "source": [
    "from sklearn.metrics import classification_report, confusion_matrix, accuracy_score\n",
    "y_pred = model_svm.predict(X_test)\n",
    "print(\"Accuracy:\",metrics.accuracy_score(y_test, y_pred))\n",
    "\n",
    "print(\"Precision:\",metrics.precision_score(y_test, y_pred,zero_division=1))\n",
    "\n",
    "print(\"Recall:\",metrics.recall_score(y_test, y_pred,zero_division=1))\n",
    "\n",
    "print(\"Confusion Matrix \\n\",metrics.confusion_matrix(y_test, y_pred),\"\\n\")\n",
    "print(\"Classification Report \\n\",metrics.classification_report(y_test, y_pred,zero_division=1))"
   ]
  },
  {
   "cell_type": "code",
   "execution_count": 69,
   "id": "306f82c8",
   "metadata": {},
   "outputs": [
    {
     "name": "stdout",
     "output_type": "stream",
     "text": [
      "Negatif\n"
     ]
    }
   ],
   "source": [
    "tweet = ''\n",
    "v_data = vectorizer.transform([tweet]).toarray()\n",
    "y_preds = model_svm.predict(v_data)\n",
    "\n",
    "#dengan asumsi bahwa 1 merupakan label positif\n",
    "if y_preds == 1:\n",
    "    print('Positif')\n",
    "else:\n",
    "    print('Negatif')"
   ]
  }
 ],
 "metadata": {
  "interpreter": {
   "hash": "27f6fea6f47ae512550f0b8facdbd035a93e1dd89633f7bf2dd00a2502c71d0d"
  },
  "kernelspec": {
   "display_name": "Python 3.10.2 64-bit",
   "language": "python",
   "name": "python3"
  },
  "language_info": {
   "codemirror_mode": {
    "name": "ipython",
    "version": 3
   },
   "file_extension": ".py",
   "mimetype": "text/x-python",
   "name": "python",
   "nbconvert_exporter": "python",
   "pygments_lexer": "ipython3",
   "version": "3.10.2 (tags/v3.10.2:a58ebcc, Jan 17 2022, 14:12:15) [MSC v.1929 64 bit (AMD64)]"
  }
 },
 "nbformat": 4,
 "nbformat_minor": 5
}
